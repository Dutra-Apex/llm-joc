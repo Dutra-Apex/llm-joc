{
  "nbformat": 4,
  "nbformat_minor": 0,
  "metadata": {
    "colab": {
      "provenance": [],
      "authorship_tag": "ABX9TyNR9y6yNStJTcFeRyrFbwKZ",
      "include_colab_link": true
    },
    "kernelspec": {
      "name": "python3",
      "display_name": "Python 3"
    },
    "language_info": {
      "name": "python"
    }
  },
  "cells": [
    {
      "cell_type": "markdown",
      "metadata": {
        "id": "view-in-github",
        "colab_type": "text"
      },
      "source": [
        "<a href=\"https://colab.research.google.com/github/Dutra-Apex/llm-joc/blob/mathew-yt-audio/YT_audio_extract.ipynb\" target=\"_parent\"><img src=\"https://colab.research.google.com/assets/colab-badge.svg\" alt=\"Open In Colab\"/></a>"
      ]
    },
    {
      "cell_type": "markdown",
      "source": [
        "#Extract audio from YouTube\n",
        "\n"
      ],
      "metadata": {
        "id": "FbcWQb5qvhvZ"
      }
    },
    {
      "cell_type": "code",
      "execution_count": 2,
      "metadata": {
        "colab": {
          "base_uri": "https://localhost:8080/"
        },
        "id": "o7JpkBhpe7IB",
        "outputId": "4b86e7a6-a9fe-4650-b94c-d381bffee80b"
      },
      "outputs": [
        {
          "output_type": "stream",
          "name": "stdout",
          "text": [
            "Requirement already satisfied: pytube in /usr/local/lib/python3.10/dist-packages (15.0.0)\n"
          ]
        }
      ],
      "source": [
        "!pip install pytube\n",
        "from pytube import YouTube"
      ]
    },
    {
      "cell_type": "code",
      "source": [
        "#2024-02-13T19:01:52Z - Office Hours w/Dr. Emily\n",
        "video_url = \"https://www.youtube.com/watch?v=cBWgh3YZaEk\""
      ],
      "metadata": {
        "id": "5qeaLI7Yfko9"
      },
      "execution_count": 3,
      "outputs": []
    },
    {
      "cell_type": "code",
      "source": [
        "# Create a YouTube instance of the video\n",
        "yt_video = YouTube(video_url)"
      ],
      "metadata": {
        "id": "Qqle0pEegoJs"
      },
      "execution_count": 5,
      "outputs": []
    },
    {
      "cell_type": "code",
      "source": [
        "# Get the types of audio streams available\n",
        "yt_video.streams.filter(only_audio=True)"
      ],
      "metadata": {
        "colab": {
          "base_uri": "https://localhost:8080/"
        },
        "id": "bXYfMPcotjPq",
        "outputId": "e11b31e3-3db6-423f-c542-dbaea47b8f60"
      },
      "execution_count": 7,
      "outputs": [
        {
          "output_type": "execute_result",
          "data": {
            "text/plain": [
              "[<Stream: itag=\"139\" mime_type=\"audio/mp4\" abr=\"48kbps\" acodec=\"mp4a.40.5\" progressive=\"False\" type=\"audio\">, <Stream: itag=\"140\" mime_type=\"audio/mp4\" abr=\"128kbps\" acodec=\"mp4a.40.2\" progressive=\"False\" type=\"audio\">, <Stream: itag=\"251\" mime_type=\"audio/webm\" abr=\"160kbps\" acodec=\"opus\" progressive=\"False\" type=\"audio\">]"
            ]
          },
          "metadata": {},
          "execution_count": 7
        }
      ]
    },
    {
      "cell_type": "code",
      "source": [
        "# Create a stream object\n",
        "stream = yt_video.streams.get_by_itag(139)"
      ],
      "metadata": {
        "id": "TX9hf--ot76l"
      },
      "execution_count": 10,
      "outputs": []
    },
    {
      "cell_type": "code",
      "source": [
        "# Extract audio\n",
        "stream.download()"
      ],
      "metadata": {
        "colab": {
          "base_uri": "https://localhost:8080/",
          "height": 35
        },
        "id": "KJQ4SMqYhPXL",
        "outputId": "d6ca6e76-7d68-47b4-d55c-d6ead4f19df0"
      },
      "execution_count": 12,
      "outputs": [
        {
          "output_type": "execute_result",
          "data": {
            "text/plain": [
              "'/content/2024-02-13T190152Z - Office Hours wDr Emily.mp4'"
            ],
            "application/vnd.google.colaboratory.intrinsic+json": {
              "type": "string"
            }
          },
          "metadata": {},
          "execution_count": 12
        }
      ]
    },
    {
      "cell_type": "markdown",
      "source": [
        "Copy file to google drive"
      ],
      "metadata": {
        "id": "gyma-F8IwINW"
      }
    },
    {
      "cell_type": "code",
      "source": [
        "from google.colab import drive\n",
        "drive.mount('/content/gdrive')"
      ],
      "metadata": {
        "colab": {
          "base_uri": "https://localhost:8080/"
        },
        "id": "2TE4iahVusBM",
        "outputId": "697dee7a-a373-4233-e4cb-d3f7ea571c04"
      },
      "execution_count": 13,
      "outputs": [
        {
          "output_type": "stream",
          "name": "stdout",
          "text": [
            "Mounted at /content/gdrive\n"
          ]
        }
      ]
    },
    {
      "cell_type": "code",
      "source": [
        "!cp \"/content/2024-02-13T190152Z - Office Hours wDr Emily.mp4\" \"/content/gdrive/MyDrive/JofC//2024-02-13T190152Z - Office Hours wDr Emily.mp4\""
      ],
      "metadata": {
        "id": "6RHX1Z7Bu5ec"
      },
      "execution_count": 14,
      "outputs": []
    }
  ]
}
